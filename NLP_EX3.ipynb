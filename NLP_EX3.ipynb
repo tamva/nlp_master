{
 "cells": [
  {
   "cell_type": "code",
   "execution_count": 41,
   "metadata": {},
   "outputs": [],
   "source": [
    "from textblob import _text\n",
    "from textblob import TextBlob\n",
    "import pandas as pd\n",
    "import numpy as np\n",
    "from sklearn import metrics"
   ]
  },
  {
   "cell_type": "code",
   "execution_count": 42,
   "metadata": {},
   "outputs": [],
   "source": [
    "data = pd.read_csv('twitter-2016test-A-clean.tsv', sep='\\t')\n",
    "df = pd.DataFrame(data)"
   ]
  },
  {
   "cell_type": "markdown",
   "metadata": {},
   "source": [
    "# Finding the sentiment polarity with Textblob library"
   ]
  },
  {
   "cell_type": "code",
   "execution_count": 43,
   "metadata": {},
   "outputs": [],
   "source": [
    "polar_tab = []\n",
    "\n",
    "for sent in df['text']:\n",
    "       blob_sent = TextBlob(sent)\n",
    "       pol_value = blob_sent.sentiment.polarity\n",
    "       polar_tab.append(pol_value)"
   ]
  },
  {
   "cell_type": "markdown",
   "metadata": {},
   "source": [
    "# Using pandas method cut in order to seperate the three classes "
   ]
  },
  {
   "cell_type": "code",
   "execution_count": 44,
   "metadata": {},
   "outputs": [
    {
     "name": "stdout",
     "output_type": "stream",
     "text": [
      "Thresholds [(-0.333, 0.333], (-0.333, 0.333], (-0.333, 0.333], (0.333, 1.0], (-0.333, 0.333], ..., (-0.333, 0.333], (-0.333, 0.333], (-1.002, -0.333], (-0.333, 0.333], (-0.333, 0.333]]\n",
      "Length: 15651\n",
      "Categories (3, interval[float64]): [(-1.002, -0.333] < (-0.333, 0.333] < (0.333, 1.0]]\n",
      "[neutral, neutral, neutral, positive, neutral, ..., neutral, neutral, negative, neutral, neutral]\n",
      "Length: 15651\n",
      "Categories (3, object): [negative < neutral < positive]\n",
      "                 tweet_id sentiment  \\\n",
      "0      619950566786113536   neutral   \n",
      "1      619969366986235905   neutral   \n",
      "2      619974445185302528   neutral   \n",
      "3      619987808317407232  positive   \n",
      "4      619994586182619136  positive   \n",
      "...                   ...       ...   \n",
      "15646  681877834982232064   neutral   \n",
      "15647  681879579129200640  positive   \n",
      "15648  681883903259357184   neutral   \n",
      "15649  681904976860327936  negative   \n",
      "15650  681910549211287552   neutral   \n",
      "\n",
      "                                                    text    values pred_sent  \n",
      "0      Picturehouse's, Pink Floyd's, 'Roger Waters: T... -0.100000   neutral  \n",
      "1      Order Go Set a Watchman in store or through ou... -0.208333   neutral  \n",
      "2      If you could ask an onstage interview question...  0.000000   neutral  \n",
      "3      A portion of book sales from our Harper Lee/Go...  0.800000  positive  \n",
      "4      Excited to read \"Go Set a Watchman\" on Tuesday...  0.255682   neutral  \n",
      "...                                                  ...       ...       ...  \n",
      "15646  @ShaquilleHoNeal from what I think you're aski...  0.000000   neutral  \n",
      "15647  Iran ranks 1st in liver surgeries, Allah bless...  0.000000   neutral  \n",
      "15648  Hours before he arrived in Saudi Arabia on Tue... -0.700000  negative  \n",
      "15649  @VanityFair  Alex Kim Kardashian worth how to ...  0.033333   neutral  \n",
      "15650  I guess even Pandora knows Justin Bieber is a ...  0.000000   neutral  \n",
      "\n",
      "[15651 rows x 5 columns]\n"
     ]
    }
   ],
   "source": [
    "# df['pred_sent'] = polar_tab\n",
    "polar = np.array(polar_tab)\n",
    "df['values'] = polar\n",
    "print(\"Thresholds\",pd.cut(polar,3))\n",
    "three_polars = pd.cut(polar,3, labels=[\"negative\", \"neutral\", \"positive\"])\n",
    "print(three_polars)\n",
    "df['pred_sent'] = three_polars\n",
    "print(df)"
   ]
  },
  {
   "cell_type": "code",
   "execution_count": 45,
   "metadata": {},
   "outputs": [
    {
     "name": "stdout",
     "output_type": "stream",
     "text": [
      "////Before extensive search/////\n",
      "Accuracy of the prediction 0.5636061593508402\n",
      "Precision of the prediction [0.43053817 0.5587957  0.61388286]\n",
      "Recall of the prediction [0.14891775 0.82867713 0.36005089]\n",
      "F-Score of the prediction [0.22129302 0.6674887  0.45388933]\n",
      "[[ 344 1740  226]\n",
      " [ 323 6496 1020]\n",
      " [ 132 3389 1981]]\n"
     ]
    }
   ],
   "source": [
    "print(\"////Before extensive search/////\")\n",
    "print(\"Accuracy of the prediction\",metrics.accuracy_score(df['sentiment'],df['pred_sent']))\n",
    "print(\"Precision of the prediction\",metrics.precision_score(df['sentiment'],df['pred_sent'],average=None))\n",
    "print(\"Recall of the prediction\",metrics.recall_score(df['sentiment'],df['pred_sent'],average=None))\n",
    "print(\"F-Score of the prediction\",metrics.f1_score(df['sentiment'],df['pred_sent'],average=None))\n",
    "\n",
    "print(metrics.confusion_matrix(df['sentiment'],df['pred_sent']))"
   ]
  },
  {
   "cell_type": "markdown",
   "metadata": {},
   "source": [
    "# This part is to find the best values that we have to seperate the classes by doing a step to step search"
   ]
  },
  {
   "cell_type": "code",
   "execution_count": 46,
   "metadata": {},
   "outputs": [],
   "source": [
    "best_neg = 0\n",
    "best_pos = 0\n",
    "best_acc = 0\n",
    "new_polar = []\n",
    "best_column = []\n",
    "\n",
    "\n",
    "for max_neg in np.arange(-0.400,-0.300,0.005):\n",
    "\n",
    "       for max_pos in np.arange(0.300, 0.400, 0.005):\n",
    "\n",
    "              for value in df['values']:\n",
    "                     if value > max_pos:\n",
    "                            new_polar.append('positive')\n",
    "                     elif value < max_neg:\n",
    "                            new_polar.append('negative')\n",
    "                     else:\n",
    "                            new_polar.append('neutral')\n",
    "              df['new_polar'] = np.array(new_polar)\n",
    "              # print(df['new_polar'])\n",
    "              new_polar.clear()\n",
    "              if (metrics.accuracy_score(df['sentiment'],df['new_polar'])) > best_acc:\n",
    "                     best_neg = max_neg\n",
    "                     best_pos = max_pos\n",
    "                     best_acc = metrics.accuracy_score(df['sentiment'],df['new_polar'])\n",
    "                     best_precision = metrics.precision_score(df['sentiment'], df['new_polar'], average=None)\n",
    "                     best_recall = metrics.recall_score(df['sentiment'], df['new_polar'], average=None)\n",
    "                     best_fscore = metrics.f1_score(df['sentiment'], df['new_polar'], average=None)\n",
    "                     best_column = df['new_polar'].tolist()\n",
    "              del df['new_polar']"
   ]
  },
  {
   "cell_type": "markdown",
   "metadata": {},
   "source": [
    "# Showing the results of the best negative and positive thresholds"
   ]
  },
  {
   "cell_type": "code",
   "execution_count": 47,
   "metadata": {},
   "outputs": [
    {
     "name": "stdout",
     "output_type": "stream",
     "text": [
      "///// After the search //////\n",
      "The best accuracy after the extensive search 0.5709539326560603\n",
      "Best negative threshold -0.4\n",
      "Best positive threshold 0.3\n",
      "Best Precision of the prediction [0.46615087 0.56235516 0.61527419]\n",
      "Best Recall of the prediction [0.104329   0.8358209  0.38949473]\n",
      "Best F-Score of the prediction [0.17049876 0.67234479 0.47701725]\n",
      "[[ 241 1827  242]\n",
      " [ 189 6552 1098]\n",
      " [  87 3272 2143]]\n"
     ]
    }
   ],
   "source": [
    "df['new_polar'] = np.array(best_column)\n",
    "print(\"///// After the search //////\")\n",
    "print(\"The best accuracy after the extensive search\",best_acc)\n",
    "print(\"Best negative threshold\",best_neg)\n",
    "print(\"Best positive threshold\",best_pos)\n",
    "print(\"Best Precision of the prediction\",metrics.precision_score(df['sentiment'],df['new_polar'],average=None))\n",
    "print(\"Best Recall of the prediction\",metrics.recall_score(df['sentiment'],df['new_polar'],average=None))\n",
    "print(\"Best F-Score of the prediction\",metrics.f1_score(df['sentiment'],df['new_polar'],average=None))\n",
    "\n",
    "\n",
    "print(metrics.confusion_matrix(df['sentiment'],df['new_polar']))"
   ]
  },
  {
   "cell_type": "code",
   "execution_count": 48,
   "metadata": {},
   "outputs": [
    {
     "name": "stdout",
     "output_type": "stream",
     "text": [
      "[[ 241 1827  242]\n",
      " [ 189 6552 1098]\n",
      " [  87 3272 2143]]\n"
     ]
    },
    {
     "data": {
      "image/png": "[encoded data removed]",
      "text/plain": [
       "<Figure size 432x288 with 2 Axes>"
      ]
     },
     "metadata": {
      "needs_background": "light"
     },
     "output_type": "display_data"
    }
   ],
   "source": [
    "import  matplotlib.pyplot as plt\n",
    "labels = ['negative', 'neutral','positive']\n",
    "cm = metrics.confusion_matrix(df['sentiment'],df['new_polar'], labels)\n",
    "print(cm)\n",
    "fig = plt.figure()\n",
    "ax = fig.add_subplot(111)\n",
    "cax = ax.matshow(cm)\n",
    "plt.title('Confusion matrix of the classifier')\n",
    "fig.colorbar(cax)\n",
    "ax.set_xticklabels([''] + labels)\n",
    "ax.set_yticklabels([''] + labels)\n",
    "plt.xlabel('Predicted')\n",
    "plt.ylabel('True')\n",
    "plt.show()"
   ]
  },
  {
   "cell_type": "code",
   "execution_count": null,
   "metadata": {},
   "outputs": [],
   "source": []
  }
 ],
 "metadata": {
  "kernelspec": {
   "display_name": "Python 3",
   "language": "python",
   "name": "python3"
  },
  "language_info": {
   "codemirror_mode": {
    "name": "ipython",
    "version": 3
   },
   "file_extension": ".py",
   "mimetype": "text/x-python",
   "name": "python",
   "nbconvert_exporter": "python",
   "pygments_lexer": "ipython3",
   "version": "3.7.4"
  }
 },
 "nbformat": 4,
 "nbformat_minor": 4
}
